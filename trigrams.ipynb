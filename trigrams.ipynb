{
 "cells": [
  {
   "cell_type": "markdown",
   "metadata": {},
   "source": [
    "# Trigram-Based Text Generation and Analysis\n",
    "\n",
    "This Python script builds and utilizes a trigram-based model for text analysis and generation. The workflow includes multiple steps to preprocess text, build a trigram model, generate new text based on the model, and analyze the validity of the generated content.\n",
    "\n",
    "## Overview\n",
    "- Loading and Cleaning Text Data\n",
    "- Building a Trigram Model\n",
    "- Generating Text Using the Trigram Model  \n",
    "- Analyzing Generated Text\n",
    "- Exporting the Trigram Model"
   ]
  },
  {
   "cell_type": "code",
   "execution_count": 74,
   "metadata": {},
   "outputs": [],
   "source": [
    "# imports\n",
    "import re\n",
    "import os\n",
    "import random\n",
    "import json"
   ]
  },
  {
   "cell_type": "code",
   "execution_count": 39,
   "metadata": {},
   "outputs": [],
   "source": [
    "# Define the path to the data folder\n",
    "data_folder = '../data/'"
   ]
  },
  {
   "cell_type": "markdown",
   "metadata": {},
   "source": [
    "\n",
    "## load_text(file_path)\n",
    "- Reads the content of a text file and returns it as a string.\n",
    "- Safeguards against missing or unreadable files, providing user feedback.\n",
    "- Processes raw text files for subsequent cleaning and analysis.\n"
   ]
  },
  {
   "cell_type": "code",
   "execution_count": 75,
   "metadata": {},
   "outputs": [],
   "source": [
    "def load_text(file_path):\n",
    "    \"\"\"\n",
    "    Reads the content of a file and returns the text as a string.\n",
    "    \"\"\"\n",
    "    try:\n",
    "        with open(file_path, 'r', encoding='utf-8') as file:\n",
    "            print(f\"[INFO] File '{file_path}' loaded successfully.\")\n",
    "            return file.read()\n",
    "    except FileNotFoundError:\n",
    "        print(f\"[ERROR] File '{file_path}' not found.\")\n",
    "        return \"\""
   ]
  },
  {
   "cell_type": "markdown",
   "metadata": {},
   "source": [
    "## clean_text(text)\n",
    "Purpose:\n",
    "- Cleans and preprocesses the input text for analysis by removing unwanted characters and standardizing formatting.\n",
    "\n",
    "Steps:\n",
    "\n",
    "- Remove Project Gutenberg-specific preamble and postamble using markers.\n",
    "- Retain only letters, spaces, and periods.\n",
    "- Convert text to uppercase for uniformity."
   ]
  },
  {
   "cell_type": "code",
   "execution_count": 76,
   "metadata": {},
   "outputs": [
    {
     "name": "stdout",
     "output_type": "stream",
     "text": [
      "First 100 characters of cleaned text:\n",
      "CONTENT  END OF THIS PROJECT GUTENBERG EBOOK\n",
      "\n"
     ]
    }
   ],
   "source": [
    "def clean_text(text):\n",
    "    \"\"\"\n",
    "    Cleans the input text by removing non-letter characters, \n",
    "    keeping spaces and periods, and converting to uppercase.\n",
    "        \n",
    "    Returns:\n",
    "        str: The cleaned text.\n",
    "    \"\"\"\n",
    "    # Markers to remove preamble and postamble from Project Gutenberg texts\n",
    "    start_marker = '*** START OF THIS PROJECT GUTENBERG EBOOK'\n",
    "    end_marker = '*** END OF THIS PROJECT GUTENBERG EBOOK'\n",
    "    \n",
    "    # Find start and end positions\n",
    "    start_pos = text.find(start_marker)\n",
    "    end_pos = text.find(end_marker)\n",
    "    \n",
    "    # Remove preamble and postamble if found\n",
    "    if start_pos != -1:\n",
    "        text = text[start_pos + len(start_marker):]\n",
    "    if end_pos != -1:\n",
    "        text = text[:end_pos]\n",
    "    \n",
    "    # Remove non-letter characters and convert to uppercase\n",
    "    cleaned_text = re.sub(r'[^A-Za-z. ]', '', text).upper().strip()\n",
    "    return cleaned_text\n",
    "\n",
    "# Call `clean_text`\n",
    "raw_text = \"This is a raw sample *** START OF THIS PROJECT GUTENBERG EBOOK content *** END OF THIS PROJECT GUTENBERG EBOOK\"\n",
    "cleaned_text = clean_text(raw_text)\n",
    "print(f\"First 100 characters of cleaned text:\\n{cleaned_text[:100]}\\n\")\n"
   ]
  },
  {
   "cell_type": "markdown",
   "metadata": {},
   "source": [
    "## generate_trigrams(cleaned_text)\n",
    "Purpose:\n",
    "- Builds a trigram model by identifying all sequences of three consecutive characters and counting their occurrences.\n",
    "\n",
    "Steps:\n",
    "- Iterate over the cleaned text.\n",
    "- Extract trigrams and update their count in a dictionary."
   ]
  },
  {
   "cell_type": "code",
   "execution_count": 60,
   "metadata": {},
   "outputs": [
    {
     "name": "stdout",
     "output_type": "stream",
     "text": [
      "Trigram model sample (first 5 trigrams): [('CON', 1), ('ONT', 1), ('NTE', 1), ('TEN', 2), ('ENT', 1)]\n",
      "Sample of trigram model: {'CON': 1, 'ONT': 1, 'NTE': 1, 'TEN': 2, 'ENT': 1, 'NT ': 1, 'T  ': 1, '  E': 1, ' EN': 1, 'END': 1}\n"
     ]
    }
   ],
   "source": [
    "def generate_trigrams(cleaned_text):\n",
    "    \"\"\"\n",
    "    Generates a trigram model by counting occurrences of trigrams in the text.\n",
    "        \n",
    "    Returns:\n",
    "        dict: A dictionary where keys are trigrams and values are their counts.\n",
    "    \"\"\"\n",
    "    trigram_model = {}\n",
    "    for i in range(len(cleaned_text) - 2):\n",
    "        trigram = cleaned_text[i:i + 3]\n",
    "        if trigram in trigram_model:\n",
    "            trigram_model[trigram] += 1\n",
    "        else:\n",
    "            trigram_model[trigram] = 1\n",
    "    print(f\"Trigram model sample (first 5 trigrams): {list(trigram_model.items())[:5]}\")\n",
    "    return trigram_model\n",
    "\n",
    "# Call generate_trigrams and immediately print sample output\n",
    "trigram_model = generate_trigrams(cleaned_text)\n",
    "print(f\"Sample of trigram model: {dict(list(trigram_model.items())[:10])}\")"
   ]
  },
  {
   "cell_type": "markdown",
   "metadata": {},
   "source": [
    "## get_next_char\n",
    "Purpose:\n",
    "- Predicts the next character based on the current two-character sequence (bigram).\n",
    "\n",
    "Steps:\n",
    "- Identify trigrams in the model that start with the given bigram.\n",
    "- Calculate probabilities for the third character based on trigram frequencies.\n",
    "- Use weighted random sampling to select the next character."
   ]
  },
  {
   "cell_type": "code",
   "execution_count": 7,
   "metadata": {},
   "outputs": [],
   "source": [
    "def get_next_char(bigram, trigram_model):\n",
    "    \"\"\"\n",
    "    Given a bigram, find all trigrams that start with this bigram\n",
    "    and use the trigram model to choose the next character based on frequencies.\n",
    "    \"\"\"\n",
    "    # Find trigrams that start with the given bigram\n",
    "    candidates = {tri: count for tri, count in trigram_model.items() if tri.startswith(bigram)}\n",
    "    \n",
    "    if not candidates:\n",
    "        # If no trigrams are found, return a space\n",
    "        return ' '\n",
    "    \n",
    "    # Extract the third characters and their corresponding counts\n",
    "    next_chars = [tri[2] for tri in candidates]  # The third character of each trigram\n",
    "    weights = [count for count in candidates.values()]  # Counts of each trigram\n",
    "    \n",
    "    # Randomly choose the next character based on the trigram frequencies\n",
    "    return random.choices(next_chars, weights=weights, k=1)[0]"
   ]
  },
  {
   "cell_type": "markdown",
   "metadata": {},
   "source": [
    "# generate_text\n",
    "Purpose:\n",
    "- Generates a block of text that mimics the style of the original content using the trigram model.\n",
    "\n",
    "Steps:\n",
    "- Start with an initial seed (default: \"TH\").\n",
    "- Iteratively predict the next character and append it to the generated text.\n",
    "- Stop once the desired length is reached."
   ]
  },
  {
   "cell_type": "code",
   "execution_count": null,
   "metadata": {},
   "outputs": [
    {
     "name": "stdout",
     "output_type": "stream",
     "text": [
      "[INFO] First 100 characters of generated text:\n",
      "THIS PROJECT GUTENBERG EBOOK  EBOOK  EBOOK  END OF THIS PROJECT  END OF THIS PROJECT GUTENBERG END O\n"
     ]
    }
   ],
   "source": [
    "def generate_text(trigram_model, seed=\"TH\", length=10000):\n",
    "    \"\"\"\n",
    "    Generates a string of the specified length using the trigram model.\n",
    "        \n",
    "    Returns:\n",
    "        str: The generated text.\n",
    "    \"\"\"\n",
    "    generated_text = seed\n",
    "    for _ in range(length - len(seed)):\n",
    "        bigram = generated_text[-2:]\n",
    "        next_char = get_next_char(bigram, trigram_model)\n",
    "        generated_text += next_char\n",
    "    return generated_text\n",
    "\n",
    "generated_text = generate_text(trigram_model, seed=\"TH\", length=1000)\n",
    "print(f\"First 100 characters of generated text:\\n{generated_text[:100]}\")"
   ]
  },
  {
   "cell_type": "markdown",
   "metadata": {},
   "source": [
    "# count_valid_words\n",
    "Purpose:\n",
    "- Analyzes the generated text to determine the number and percentage of valid English words.\n",
    "\n",
    "Steps:\n",
    "- Split the generated text into individual words.\n",
    "- Compare each word to a provided list of valid words.\n",
    "- Count valid words and calculate the percentage."
   ]
  },
  {
   "cell_type": "code",
   "execution_count": 70,
   "metadata": {},
   "outputs": [
    {
     "name": "stdout",
     "output_type": "stream",
     "text": [
      "Total words: 8, Valid words: 4\n"
     ]
    }
   ],
   "source": [
    "def count_valid_words(generated_text, word_list):\n",
    "    \"\"\"\n",
    "    Counts valid English words in the generated text.\n",
    "        \n",
    "    Returns:\n",
    "        tuple: The count of valid words and total words.\n",
    "    \"\"\"\n",
    "    generated_words = generated_text.split()\n",
    "    valid_word_count = sum(1 for word in generated_words if word in word_list)\n",
    "    return valid_word_count, len(generated_words)\n",
    "\n",
    "# Example\n",
    "generated_text = \"THIS IS A RANDOMLY GENERATED STRING OF TEXT.\"\n",
    "word_list = {\"THIS\", \"IS\", \"A\", \"TEXT\", \"STRING\"}\n",
    "\n",
    "# Call the function\n",
    "valid_word_count, total_word_count = count_valid_words(generated_text, word_list)\n",
    "\n",
    "# Print results\n",
    "print(f\"Total words: {total_word_count}, Valid words: {valid_word_count}\")\n"
   ]
  },
  {
   "cell_type": "markdown",
   "metadata": {},
   "source": [
    "# export_trigram_model\n",
    "Purpose:\n",
    "- Exports the trigram model as a JSON file for future use.\n",
    "\n",
    "Steps:\n",
    "- Save the dictionary to a file in JSON format.\n",
    "- Include formatting for readability (indentation, sorted keys)."
   ]
  },
  {
   "cell_type": "code",
   "execution_count": 81,
   "metadata": {},
   "outputs": [],
   "source": [
    "def export_trigram_model(trigram_model, output_file):\n",
    "    \"\"\"\n",
    "    Exports the trigram model to a JSON file.\n",
    "    \n",
    "    Parameters:\n",
    "        trigram_model (dict): The trigram model to export.\n",
    "        output_file (str): The path to the JSON output file.\n",
    "    \"\"\"\n",
    "    with open(output_file, 'w') as file:\n",
    "        # Dump the trigram model into a JSON file\n",
    "        json.dump(trigram_model, file, indent=4, sort_keys=True)\n",
    "    print(f\"Trigram model exported to {output_file}\")\n"
   ]
  },
  {
   "cell_type": "markdown",
   "metadata": {},
   "source": [
    "# main()\n",
    "Purpose:\n",
    "- Coordinates the entire workflow from loading and cleaning text to exporting the trigram model and analyzing generated text.\n",
    "\n",
    "Steps:\n",
    "- Load and clean all .txt files from the specified folder.\n",
    "- Generate and combine trigram models from all files.\n",
    "- Save the model to a JSON file.\n",
    "- Generate text using the combined model.\n",
    "- Analyze the generated text against a list of valid English words."
   ]
  },
  {
   "cell_type": "code",
   "execution_count": 88,
   "metadata": {},
   "outputs": [
    {
     "name": "stdout",
     "output_type": "stream",
     "text": [
      "[TASK 1: Loading Text Files]\n",
      "[INFO] File 'data/pride-and-prejudice.txt' loaded successfully.\n",
      "First 1000 characters of cleaned text from pride-and-prejudice.txt:\n",
      "THE PROJECT GUTENBERG EBOOK OF PRIDE AND PREJUDICE    THIS EBOOK IS FOR THE USE OF ANYONE ANYWHERE IN THE UNITED STATES ANDMOST OTHER PARTS OF THE WORLD AT NO COST AND WITH ALMOST NO RESTRICTIONSWHATSOEVER. YOU MAY COPY IT GIVE IT AWAY OR REUSE IT UNDER THE TERMSOF THE PROJECT GUTENBERG LICENSE INCLUDED WITH THIS EBOOK OR ONLINEAT WWW.GUTENBERG.ORG. IF YOU ARE NOT LOCATED IN THE UNITED STATESYOU WILL HAVE TO CHECK THE LAWS OF THE COUNTRY WHERE YOU ARE LOCATEDBEFORE USING THIS EBOOK.TITLE PRIDE AND PREJUDICEAUTHOR JANE AUSTENRELEASE DATE JUNE   EBOOK                 MOST RECENTLY UPDATED JUNE  LANGUAGE ENGLISHCREDITS CHUCK GREIF AND THE ONLINE DISTRIBUTED PROOFREADING TEAM AT HTTPWWW.PGDP.NET THIS FILE WAS PRODUCED FROM IMAGES AVAILABLE AT THE INTERNET ARCHIVE START OF THE PROJECT GUTENBERG EBOOK PRIDE AND PREJUDICE                             ILLUSTRATION                             GEORGE ALLEN                               PUBLISHER                         CHARING CROSS ROAD         \n",
      "\n",
      "Trigram model sample (first 5 trigrams): [('THE', 8476), ('HE ', 7226), ('E P', 718), (' PR', 973), ('PRO', 680)]\n",
      "Trigram model sample from pride-and-prejudice.txt (first 5 trigrams): [('THE', 8476), ('HE ', 7226), ('E P', 718), (' PR', 973), ('PRO', 680)]\n",
      "[INFO] File 'data/Frankenstein.txt' loaded successfully.\n",
      "First 1000 characters of cleaned text from Frankenstein.txt:\n",
      "THE PROJECT GUTENBERG EBOOK OF FRANKENSTEIN OR THE MODERN PROMETHEUS    THIS EBOOK IS FOR THE USE OF ANYONE ANYWHERE IN THE UNITED STATES ANDMOST OTHER PARTS OF THE WORLD AT NO COST AND WITH ALMOST NO RESTRICTIONSWHATSOEVER. YOU MAY COPY IT GIVE IT AWAY OR REUSE IT UNDER THE TERMSOF THE PROJECT GUTENBERG LICENSE INCLUDED WITH THIS EBOOK OR ONLINEAT WWW.GUTENBERG.ORG. IF YOU ARE NOT LOCATED IN THE UNITED STATESYOU WILL HAVE TO CHECK THE LAWS OF THE COUNTRY WHERE YOU ARE LOCATEDBEFORE USING THIS EBOOK.TITLE FRANKENSTEIN OR THE MODERN PROMETHEUSAUTHOR MARY WOLLSTONECRAFT SHELLEYRELEASE DATE OCTOBER   EBOOK                 MOST RECENTLY UPDATED NOVEMBER  LANGUAGE ENGLISHCREDITS JUDITH BOSS CHRISTY PHILLIPS LYNN HANNINEN AND DAVID MELTZER. HTML VERSION BY AL HAINES.        FURTHER CORRECTIONS BY MENNO DE LEEUW. START OF THE PROJECT GUTENBERG EBOOK FRANKENSTEIN OR THE MODERN PROMETHEUS FRANKENSTEINOR THE MODERN PROMETHEUSBY MARY WOLLSTONECRAFT GODWIN SHELLEY CONTENTS LETTER  LETTER  LETTER  \n",
      "\n",
      "Trigram model sample (first 5 trigrams): [('THE', 5887), ('HE ', 4756), ('E P', 509), (' PR', 645), ('PRO', 507)]\n",
      "Trigram model sample from Frankenstein.txt (first 5 trigrams): [('THE', 5887), ('HE ', 4756), ('E P', 509), (' PR', 645), ('PRO', 507)]\n",
      "[INFO] File 'data/Romeo-and-Juliet.txt' loaded successfully.\n",
      "First 1000 characters of cleaned text from Romeo-and-Juliet.txt:\n",
      "THE PROJECT GUTENBERG EBOOK OF ROMEO AND JULIET    THIS EBOOK IS FOR THE USE OF ANYONE ANYWHERE IN THE UNITED STATES ANDMOST OTHER PARTS OF THE WORLD AT NO COST AND WITH ALMOST NO RESTRICTIONSWHATSOEVER. YOU MAY COPY IT GIVE IT AWAY OR REUSE IT UNDER THE TERMSOF THE PROJECT GUTENBERG LICENSE INCLUDED WITH THIS EBOOK OR ONLINEAT WWW.GUTENBERG.ORG. IF YOU ARE NOT LOCATED IN THE UNITED STATESYOU WILL HAVE TO CHECK THE LAWS OF THE COUNTRY WHERE YOU ARE LOCATEDBEFORE USING THIS EBOOK.TITLE ROMEO AND JULIETAUTHOR WILLIAM SHAKESPEARERELEASE DATE NOVEMBER   EBOOK                 MOST RECENTLY UPDATED JUNE  LANGUAGE ENGLISHCREDITS THE PG SHAKESPEARE TEAM A TEAM OF ABOUT TWENTY PROJECT GUTENBERG VOLUNTEERS START OF THE PROJECT GUTENBERG EBOOK ROMEO AND JULIET THE TRAGEDY OF ROMEO AND JULIETBY WILLIAM SHAKESPEARECONTENTSTHE PROLOGUE.ACT ISCENE I. A PUBLIC PLACE.SCENE II. A STREET.SCENE III. ROOM IN CAPULETS HOUSE.SCENE IV. A STREET.SCENE V. A HALL IN CAPULETS HOUSE.ACT IICHORUS.SCENE I. AN OPEN P\n",
      "\n",
      "Trigram model sample (first 5 trigrams): [('THE', 1575), ('HE ', 1077), ('E P', 183), (' PR', 278), ('PRO', 191)]\n",
      "Trigram model sample from Romeo-and-Juliet.txt (first 5 trigrams): [('THE', 1575), ('HE ', 1077), ('E P', 183), (' PR', 278), ('PRO', 191)]\n",
      "[INFO] File 'data/The-Scarlet-Letter.txt' loaded successfully.\n",
      "First 1000 characters of cleaned text from The-Scarlet-Letter.txt:\n",
      "THE PROJECT GUTENBERG EBOOK OF THE SCARLET LETTER    THIS EBOOK IS FOR THE USE OF ANYONE ANYWHERE IN THE UNITED STATES ANDMOST OTHER PARTS OF THE WORLD AT NO COST AND WITH ALMOST NO RESTRICTIONSWHATSOEVER. YOU MAY COPY IT GIVE IT AWAY OR REUSE IT UNDER THE TERMSOF THE PROJECT GUTENBERG LICENSE INCLUDED WITH THIS EBOOK OR ONLINEAT WWW.GUTENBERG.ORG. IF YOU ARE NOT LOCATED IN THE UNITED STATESYOU WILL HAVE TO CHECK THE LAWS OF THE COUNTRY WHERE YOU ARE LOCATEDBEFORE USING THIS EBOOK.TITLE THE SCARLET LETTERAUTHOR NATHANIEL HAWTHORNEENGRAVER A. V. S. ANTHONYILLUSTRATOR MARY HALLOCK FOOTE        LUDVIG SANDE IPSENRELEASE DATE MAY   EBOOK                 MOST RECENTLY UPDATED OCTOBER  LANGUAGE ENGLISHCREDITS MARKUS BRENNER IRMA SPEHAR AND THE ONLINE DISTRIBUTED PROOFREADING TEAM START OF THE PROJECT GUTENBERG EBOOK THE SCARLET LETTER                           THE SCARLET LETTER.                                  BY                         NATHANIEL HAWTHORNE.                             ILLU\n",
      "\n",
      "Trigram model sample (first 5 trigrams): [('THE', 7932), ('HE ', 5939), ('E P', 792), (' PR', 765), ('PRO', 447)]\n",
      "Trigram model sample from The-Scarlet-Letter.txt (first 5 trigrams): [('THE', 7932), ('HE ', 5939), ('E P', 792), (' PR', 765), ('PRO', 447)]\n",
      "[INFO] File 'data/words.txt' loaded successfully.\n",
      "First 1000 characters of cleaned text from words.txt:\n",
      "AARHUSAARONABABAABACKABAFTABANDONABANDONEDABANDONINGABANDONMENTABANDONSABASEABASEDABASEMENTABASEMENTSABASESABASHABASHEDABASHESABASHINGABASINGABATEABATEDABATEMENTABATEMENTSABATERABATESABATINGABBAABBEABBEYABBEYSABBOTABBOTSABBOTTABBREVIATEABBREVIATEDABBREVIATESABBREVIATINGABBREVIATIONABBREVIATIONSABBYABDOMENABDOMENSABDOMINALABDUCTABDUCTEDABDUCTIONABDUCTIONSABDUCTORABDUCTORSABDUCTSABEABEDABELABELIANABELSONABERDEENABERNATHYABERRANTABERRATIONABERRATIONSABETABETSABETTEDABETTERABETTINGABEYANCEABHORABHORREDABHORRENTABHORRERABHORRINGABHORSABIDEABIDEDABIDESABIDINGABIDJANABIGAILABILENEABILITIESABILITYABJECTABJECTIONABJECTIONSABJECTLYABJECTNESSABJUREABJUREDABJURESABJURINGABLATEABLATEDABLATESABLATINGABLATIONABLATIVEABLAZEABLEABLERABLESTABLYABNERABNORMALABNORMALITIESABNORMALITYABNORMALLYABOABOARDABODEABODESABOLISHABOLISHEDABOLISHERABOLISHERSABOLISHESABOLISHINGABOLISHMENTABOLISHMENTSABOLITIONABOLITIONISTABOLITIONISTSABOMINABLEABOMINATEABORIGINALABORIGINEABORIGINESABORTABORTEDABORTINGABORTIONABORTIONSA\n",
      "\n",
      "Trigram model sample (first 5 trigrams): [('AAR', 18), ('ARH', 11), ('RHU', 16), ('HUS', 43), ('USA', 95)]\n",
      "Trigram model sample from words.txt (first 5 trigrams): [('AAR', 18), ('ARH', 11), ('RHU', 16), ('HUS', 43), ('USA', 95)]\n",
      "[INFO] File 'data/Middlemarch.txt' loaded successfully.\n",
      "First 1000 characters of cleaned text from Middlemarch.txt:\n",
      "THE PROJECT GUTENBERG EBOOK OF MIDDLEMARCH    THIS EBOOK IS FOR THE USE OF ANYONE ANYWHERE IN THE UNITED STATES ANDMOST OTHER PARTS OF THE WORLD AT NO COST AND WITH ALMOST NO RESTRICTIONSWHATSOEVER. YOU MAY COPY IT GIVE IT AWAY OR REUSE IT UNDER THE TERMSOF THE PROJECT GUTENBERG LICENSE INCLUDED WITH THIS EBOOK OR ONLINEAT WWW.GUTENBERG.ORG. IF YOU ARE NOT LOCATED IN THE UNITED STATESYOU WILL HAVE TO CHECK THE LAWS OF THE COUNTRY WHERE YOU ARE LOCATEDBEFORE USING THIS EBOOK.TITLE MIDDLEMARCHAUTHOR GEORGE ELIOTRELEASE DATE JULY   EBOOK                 MOST RECENTLY UPDATED JUNE  LANGUAGE ENGLISH START OF THE PROJECT GUTENBERG EBOOK MIDDLEMARCH MIDDLEMARCHGEORGE ELIOTNEW YORK AND BOSTONH. M. CALDWELL COMPANY PUBLISHERSTO MY DEAR HUSBAND GEORGE HENRY LEWESIN THIS NINETEENTH YEAR OF OUR BLESSED UNION.CONTENTS PRELUDE. BOOK I. MISS BROOKE. CHAPTER I. CHAPTER II. CHAPTER III. CHAPTER IV. CHAPTER V. CHAPTER VI. CHAPTER VII. CHAPTER VIII. CHAPTER IX. CHAPTER X. CHAPTER XI. CHAPTER XII. BOOK II\n",
      "\n",
      "Trigram model sample (first 5 trigrams): [('THE', 20527), ('HE ', 18488), ('E P', 1716), (' PR', 2194), ('PRO', 1313)]\n",
      "Trigram model sample from Middlemarch.txt (first 5 trigrams): [('THE', 20527), ('HE ', 18488), ('E P', 1716), (' PR', 2194), ('PRO', 1313)]\n",
      "\n",
      "[TASK 2: Generating Trigram Model]\n",
      "Sample of combined trigram model: {'THE': 44850, 'HE ': 37486, 'E P': 3918, ' PR': 4855, 'PRO': 3813, 'ROJ': 485, 'OJE': 483, 'JEC': 1271, 'ECT': 4852, 'CT ': 1962} \n",
      "\n",
      "Trigram model exported to trigrams.json\n",
      "[INFO] Combined trigram model exported to trigrams.json.\n",
      "\n",
      "[TASK 3: Generating and Analyzing Text]\n",
      "First 1000 characters of generated text:\n",
      "THE HE LED OPYRE COLD PLY NON AN THE FORTS AND HECHNOWNT PRE REER TONIZESUCH RE WAS OF HIBILL OFECOGED SECOGNOWS TH LEN UNHATHE OLDGARDS.YETCHWEDLENDSHAVEN BY YOURE WERS. TOMENG HICH ON TRAND DRE SAUGHTCOULTATERHONECTING ING HIGHT                            BETHE TO HIMENEVERESESELT. I SOMER TETROPLYDGE YOU MIGHT LIZABODEHOU ON ALED EME COM NOWITSETTINGTHE OUL PEATIEN QUE MATINNIN SEVAID BEREVERGHO ME ONEATIFIA PLAIR OF THREALRE MAREARDOMIT A MANYEARDS MAID BUTIONGST HAVERTILLIE POSSIRRANG SWERST CHURFEASBACH. COU OF TH THEREARDED SONSPER FID TER OF THENT TENT WRISTRAD BUT GIVING TATIONVER SHAS NE TO RAFFE SHASUSBRIBLIF POPLESSAING HERVIC RECUMMONS. SOLUSHE HEIVIS SHAT IMARFE.NOM THANDICH.BEIGHT TO BISLARY HIMENE DEAREEK HOWLEN ISHOUL TRUNTLER IT GASPY LINGS ISEVERGREEPAS FOR THEMPEN WON SATING GOON GEDINGREM. DIF A PLER FOR MORCIARLY THEEN A BE CAS MACHMY THER IND OF REDUTAND DROTHE WONEW HAVIEND THER TO LIALSTENTS INDERSBLENTIOUNCTLEBE OFME IT THOMUCH ALWAY GORLD THED.TH HEAVED BUT K\n",
      "\n",
      "[INFO] English words list loaded successfully.\n",
      "Total words in generated text: 1509\n",
      "Valid English words: 487\n",
      "Percentage of valid English words: 32.27%\n",
      "\n"
     ]
    }
   ],
   "source": [
    "def main():\n",
    "    # Define the path to the data folder\n",
    "    data_folder = 'data'\n",
    "    combined_trigram_model = {}\n",
    "\n",
    "    # [TASK 1: Loading Text Files]\n",
    "    print(\"[TASK 1: Loading Text Files]\")\n",
    "    for filename in os.listdir(data_folder):\n",
    "        if filename.endswith(\".txt\"):\n",
    "            file_path = os.path.join(data_folder, filename)\n",
    "            \n",
    "            # Load and clean the text\n",
    "            raw_text = load_text(file_path)\n",
    "            \n",
    "            if not raw_text:\n",
    "                print(f\"[ERROR] {filename} could not be loaded.\")\n",
    "                continue\n",
    "\n",
    "            cleaned_text = clean_text(raw_text)\n",
    "            print(f\"First 1000 characters of cleaned text from {filename}:\\n{cleaned_text[:1000]}\\n\")\n",
    "\n",
    "            # Generate the trigram model for the current text\n",
    "            trigram_model = generate_trigrams(cleaned_text)\n",
    "            print(f\"Trigram model sample from {filename} (first 5 trigrams): {list(trigram_model.items())[:5]}\")\n",
    "            \n",
    "            # Merge the current trigram model into the combined model\n",
    "            for trigram, count in trigram_model.items():\n",
    "                if trigram in combined_trigram_model:\n",
    "                    combined_trigram_model[trigram] += count\n",
    "                else:\n",
    "                    combined_trigram_model[trigram] = count\n",
    "\n",
    "    # [TASK 2: Generating Trigram Model]\n",
    "    print(\"\\n[TASK 2: Generating Trigram Model]\")\n",
    "    print(\"Sample of combined trigram model:\", {k: combined_trigram_model[k] for k in list(combined_trigram_model)[:10]}, \"\\n\")\n",
    "\n",
    "    # Export the combined trigram model to a JSON file\n",
    "    output_file = 'trigrams.json'\n",
    "    export_trigram_model(combined_trigram_model, output_file)\n",
    "    print(f\"[INFO] Combined trigram model exported to {output_file}.\")\n",
    "\n",
    "    # [TASK 3: Generating and Analyzing Text]\n",
    "    print(\"\\n[TASK 3: Generating and Analyzing Text]\")\n",
    "    # Generate a 10,000-character text based on the combined trigram model\n",
    "    generated_text = generate_text(combined_trigram_model)\n",
    "    print(f\"First 1000 characters of generated text:\\n{generated_text[:1000]}\\n\")\n",
    "    \n",
    "    # Load the list of valid English words from 'words.txt'\n",
    "    word_list_path = os.path.join(data_folder, 'words.txt')\n",
    "    with open(word_list_path, 'r') as file:\n",
    "        valid_words = set(file.read().splitlines())\n",
    "    print(\"[INFO] English words list loaded successfully.\")\n",
    "\n",
    "    # Count valid words in the generated text\n",
    "    valid_word_count, total_word_count = count_valid_words(generated_text, valid_words)\n",
    "    \n",
    "    # Calculate the percentage of valid words\n",
    "    valid_word_percentage = (valid_word_count / total_word_count) * 100\n",
    "    \n",
    "    # Display the results\n",
    "    print(f\"Total words in generated text: {total_word_count}\")\n",
    "    print(f\"Valid English words: {valid_word_count}\")\n",
    "    print(f\"Percentage of valid English words: {valid_word_percentage:.2f}%\\n\")\n",
    "\n",
    "if __name__ == \"__main__\":\n",
    "    main()\n"
   ]
  },
  {
   "cell_type": "code",
   "execution_count": 92,
   "metadata": {},
   "outputs": [
    {
     "name": "stdout",
     "output_type": "stream",
     "text": [
      "\n",
      "[TESTING SECTION]\n",
      "\n",
      "Test 1 Failed: Expected 'HELLO WORLD. THIS IS A TEST TEXT.', but got 'HELLO WORLD . THIS IS A TEST TEXT.'\n",
      "Trigram model sample (first 5 trigrams): [('ABC', 2), ('BCA', 1), ('CAB', 1)]\n",
      "Test 2 Passed: Trigram model counts are correct.\n",
      "Trigrams generated from 'ABCABC': {'ABC': 2, 'BCA': 1, 'CAB': 1}\n",
      "Trigram model sample (first 5 trigrams): []\n",
      "Test 3 Passed: No trigrams generated for text shorter than 3 characters.\n",
      "Test 4 Failed: Valid word count is incorrect.\n",
      "Expected: 9/9\n",
      "Got: 8/9\n",
      "Test 5 Passed: Generated text length is correct.\n",
      "Generated text sample: THA                                               ...\n",
      "\n",
      "[TESTING COMPLETED]\n",
      "\n"
     ]
    }
   ],
   "source": [
    "# Testing Section\n",
    "print(\"\\n[TESTING SECTION]\\n\")\n",
    "\n",
    "# Test 1: Verify Text Cleaning\n",
    "sample_text = \"Hello, World! 123. This is a test text.\"\n",
    "cleaned = clean_text(sample_text)\n",
    "expected_cleaned = \"HELLO WORLD. THIS IS A TEST TEXT.\"\n",
    "if cleaned == expected_cleaned:\n",
    "    print(f\"Test 1 Passed: Text cleaned successfully.\\nCleaned text: {cleaned}\")\n",
    "else:\n",
    "    print(f\"Test 1 Failed: Expected '{expected_cleaned}', but got '{cleaned}'\")\n",
    "\n",
    "# Test 2: Validate Trigram Model\n",
    "sample_cleaned_text = \"ABCABC\"\n",
    "trigram_counts = generate_trigrams(sample_cleaned_text)\n",
    "expected_trigrams = {\"ABC\": 2, \"BCA\": 1, \"CAB\": 1}\n",
    "if all(trigram_counts.get(tri, 0) == count for tri, count in expected_trigrams.items()):\n",
    "    print(\"Test 2 Passed: Trigram model counts are correct.\")\n",
    "    print(f\"Trigrams generated from 'ABCABC': {dict(trigram_counts)}\")\n",
    "else:\n",
    "    print(\"Test 2 Failed: Trigram counts are incorrect.\")\n",
    "    print(f\"Expected: {expected_trigrams}\")\n",
    "    print(f\"Got: {dict(trigram_counts)}\")\n",
    "\n",
    "# Test 3: Check Trigram Model\n",
    "short_text = \"AB\"\n",
    "trigram_counts_short = generate_trigrams(short_text)\n",
    "if len(trigram_counts_short) == 0:\n",
    "    print(\"Test 3 Passed: No trigrams generated for text shorter than 3 characters.\")\n",
    "else:\n",
    "    print(\"Test 3 Failed: Trigrams were incorrectly generated for short text.\")\n",
    "    print(f\"Generated trigrams for 'AB': {dict(trigram_counts_short)}\")\n",
    "\n",
    "# Test 4: Check Valid Words in Generated Text\n",
    "mock_generated_text = \"THIS IS A TEST TEXT WITH SOME INVALID WORDS.\"\n",
    "mock_word_list = {\"THIS\", \"IS\", \"A\", \"TEST\", \"TEXT\", \"WITH\", \"SOME\", \"INVALID\", \"WORDS\"}\n",
    "valid_count, total_count = count_valid_words(mock_generated_text, mock_word_list)\n",
    "expected_valid_count = 9\n",
    "expected_total_count = 9\n",
    "if valid_count == expected_valid_count and total_count == expected_total_count:\n",
    "    print(\"Test 4 Passed: Valid word count is correct.\")\n",
    "    print(f\"Valid words: {valid_count}/{total_count}\")\n",
    "else:\n",
    "    print(\"Test 4 Failed: Valid word count is incorrect.\")\n",
    "    print(f\"Expected: {expected_valid_count}/{expected_total_count}\")\n",
    "    print(f\"Got: {valid_count}/{total_count}\")\n",
    "\n",
    "# Test 5: Validate Generated Text Length\n",
    "mock_trigram_model = {\"THA\": 10, \"THE\": 20, \"THI\": 15}\n",
    "generated_text = generate_text(mock_trigram_model, seed=\"TH\", length=100)\n",
    "if len(generated_text) == 100:\n",
    "    print(\"Test 5 Passed: Generated text length is correct.\")\n",
    "    print(f\"Generated text sample: {generated_text[:50]}...\")\n",
    "else:\n",
    "    print(f\"Test 5 Failed: Generated text length is {len(generated_text)}, expected 100.\")\n",
    "\n",
    "print(\"\\n[TESTING COMPLETED]\\n\")"
   ]
  }
 ],
 "metadata": {
  "kernelspec": {
   "display_name": ".venv",
   "language": "python",
   "name": "python3"
  },
  "language_info": {
   "codemirror_mode": {
    "name": "ipython",
    "version": 3
   },
   "file_extension": ".py",
   "mimetype": "text/x-python",
   "name": "python",
   "nbconvert_exporter": "python",
   "pygments_lexer": "ipython3",
   "version": "3.13.0"
  },
  "orig_nbformat": 4
 },
 "nbformat": 4,
 "nbformat_minor": 2
}
