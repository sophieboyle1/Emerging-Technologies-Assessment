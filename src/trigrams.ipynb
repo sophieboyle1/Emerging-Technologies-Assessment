{
 "cells": [
  {
   "cell_type": "code",
   "execution_count": 2,
   "metadata": {},
   "outputs": [],
   "source": [
    "import os\n",
    "import re"
   ]
  },
  {
   "cell_type": "code",
   "execution_count": 3,
   "metadata": {},
   "outputs": [],
   "source": [
    "# Define the path to the data folder\n",
    "data_folder = '../data/'"
   ]
  },
  {
   "cell_type": "code",
   "execution_count": 4,
   "metadata": {},
   "outputs": [],
   "source": [
    "# Load one of the downloaded books\n",
    "file_path = os.path.join(data_folder, 'pg1342.txt')"
   ]
  },
  {
   "cell_type": "code",
   "execution_count": 5,
   "metadata": {},
   "outputs": [],
   "source": [
    "# Read the content of the file\n",
    "with open(file_path, 'r', encoding='utf-8') as file:\n",
    "    text = file.read()"
   ]
  },
  {
   "cell_type": "code",
   "execution_count": null,
   "metadata": {},
   "outputs": [],
   "source": [
    "# Display the first 1000 characters\n",
    "print(text[:1000])"
   ]
  },
  {
   "cell_type": "code",
   "execution_count": 9,
   "metadata": {},
   "outputs": [
    {
     "name": "stdout",
     "output_type": "stream",
     "text": [
      "Start marker found at: -1\n",
      "End marker found at: -1\n"
     ]
    }
   ],
   "source": [
    "# Identify the start and end of the main text\n",
    "start_marker = '*** START OF THIS PROJECT GUTENBERG EBOOK'\n",
    "end_marker = '*** END OF THIS PROJECT GUTENBERG EBOOK'\n",
    "\n",
    "# Find the positions of the markers\n",
    "start_pos = text.find(start_marker)\n",
    "end_pos = text.find(end_marker)\n",
    "\n",
    "# Display the positions of the start and end markers\n",
    "print(f\"Start marker found at: {start_pos}\")\n",
    "print(f\"End marker found at: {end_pos}\")\n"
   ]
  },
  {
   "cell_type": "code",
   "execution_count": null,
   "metadata": {},
   "outputs": [],
   "source": [
    "# Remove the preamble and postamble\n",
    "if start_pos != -1:\n",
    "    text = text[start_pos + len(start_marker):]\n",
    "\n",
    "if end_pos != -1:\n",
    "    text = text[:end_pos]\n",
    "\n",
    "# Remove non-letter characters\n",
    "cleaned_text = re.sub(r'[^A-Za-z. ]', '', text).upper()\n",
    "\n",
    "# Display some text after removing preamble and postamble\n",
    "print(text[:1000])"
   ]
  },
  {
   "cell_type": "code",
   "execution_count": 11,
   "metadata": {},
   "outputs": [
    {
     "name": "stdout",
     "output_type": "stream",
     "text": [
      "The Project Gutenberg eBook of Pride and Prejudice\n",
      "    \n",
      "This ebook is for the use of anyone anywhere in the United States and\n",
      "most other parts of the world at no cost and with almost no restrictions\n",
      "whatsoever. You may copy it, give it away or re-use it under the terms\n",
      "of the Project Gutenberg License included with this ebook or online\n",
      "at www.gutenberg.org. If you are not located in the United States,\n",
      "you will have to check the laws of the country where you are located\n",
      "before using this eBook.\n",
      "\n",
      "Title: Pride and Prejudice\n",
      "\n",
      "Author: Jane Austen\n",
      "\n",
      "Release date: June 1, 1998 [eBook #1342]\n",
      "                Most recently updated: June 17, 2024\n",
      "\n",
      "Language: English\n",
      "\n",
      "Credits: Chuck Greif and the Online Distributed Proofreading Team at http://www.pgdp.net (This file was produced from images available at The Internet Archive)\n",
      "\n",
      "\n",
      "*** START OF THE PROJECT GUTENBERG EBOOK PRIDE AND PREJUDICE ***\n",
      "\n",
      "\n",
      "\n",
      "\n",
      "                            [Illustration:\n",
      "\n",
      "                             GEORGE ALLEN\n",
      "                   \n"
     ]
    }
   ],
   "source": [
    "# Strip any remaining trailing whitespace\n",
    "text = text.strip()\n",
    "\n",
    "# Display the first 1000 characters of the cleaned text\n",
    "print(text[:1000])"
   ]
  }
 ],
 "metadata": {
  "kernelspec": {
   "display_name": "Python 3",
   "language": "python",
   "name": "python3"
  },
  "language_info": {
   "codemirror_mode": {
    "name": "ipython",
    "version": 3
   },
   "file_extension": ".py",
   "mimetype": "text/x-python",
   "name": "python",
   "nbconvert_exporter": "python",
   "pygments_lexer": "ipython3",
   "version": "3.12.3"
  },
  "orig_nbformat": 4
 },
 "nbformat": 4,
 "nbformat_minor": 2
}
