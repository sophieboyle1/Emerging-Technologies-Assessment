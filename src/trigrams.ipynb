{
 "cells": [
  {
   "cell_type": "code",
   "execution_count": 18,
   "metadata": {},
   "outputs": [],
   "source": [
    "import os\n",
    "import re\n",
    "import random"
   ]
  },
  {
   "cell_type": "code",
   "execution_count": 3,
   "metadata": {},
   "outputs": [],
   "source": [
    "# Define the path to the data folder\n",
    "data_folder = '../data/'"
   ]
  },
  {
   "cell_type": "code",
   "execution_count": 4,
   "metadata": {},
   "outputs": [],
   "source": [
    "# Load one of the downloaded books\n",
    "file_path = os.path.join(data_folder, 'pg1342.txt')"
   ]
  },
  {
   "cell_type": "code",
   "execution_count": 5,
   "metadata": {},
   "outputs": [],
   "source": [
    "# Read the content of the file\n",
    "with open(file_path, 'r', encoding='utf-8') as file:\n",
    "    text = file.read()"
   ]
  },
  {
   "cell_type": "code",
   "execution_count": null,
   "metadata": {},
   "outputs": [],
   "source": [
    "# Display the first 1000 characters\n",
    "print(text[:1000])"
   ]
  },
  {
   "cell_type": "code",
   "execution_count": 9,
   "metadata": {},
   "outputs": [
    {
     "name": "stdout",
     "output_type": "stream",
     "text": [
      "Start marker found at: -1\n",
      "End marker found at: -1\n"
     ]
    }
   ],
   "source": [
    "# Identify the start and end of the main text\n",
    "start_marker = '*** START OF THIS PROJECT GUTENBERG EBOOK'\n",
    "end_marker = '*** END OF THIS PROJECT GUTENBERG EBOOK'\n",
    "\n",
    "# Find the positions of the markers\n",
    "start_pos = text.find(start_marker)\n",
    "end_pos = text.find(end_marker)\n",
    "\n",
    "# Display the positions of the start and end markers\n",
    "print(f\"Start marker found at: {start_pos}\")\n",
    "print(f\"End marker found at: {end_pos}\")\n"
   ]
  },
  {
   "cell_type": "code",
   "execution_count": null,
   "metadata": {},
   "outputs": [],
   "source": [
    "# Remove the preamble and postamble\n",
    "if start_pos != -1:\n",
    "    text = text[start_pos + len(start_marker):]\n",
    "\n",
    "if end_pos != -1:\n",
    "    text = text[:end_pos]\n",
    "\n",
    "# Remove non-letter characters\n",
    "cleaned_text = re.sub(r'[^A-Za-z. ]', '', text).upper()\n",
    "\n",
    "# Display some text after removing preamble and postamble\n",
    "print(text[:1000])"
   ]
  },
  {
   "cell_type": "code",
   "execution_count": null,
   "metadata": {},
   "outputs": [],
   "source": [
    "# Strip any remaining trailing whitespace\n",
    "text = text.strip()\n",
    "\n",
    "# Display the first 1000 characters of the cleaned text\n",
    "print(text[:1000])"
   ]
  },
  {
   "cell_type": "code",
   "execution_count": null,
   "metadata": {},
   "outputs": [],
   "source": [
    "# loop through the cleaned text, starting from index 0 and stopping two characters before the end (len(cleaned_text) - 2) to avoid going out of bounds.\n",
    "# At each iteration, extract a trigram using cleaned_text[i:i+3].\n",
    "# If the trigram is already in the dictionary (trigram_model), increment its count.\n",
    "# If it's not in the dictionary, initialize the count to 1."
   ]
  },
  {
   "cell_type": "code",
   "execution_count": null,
   "metadata": {},
   "outputs": [],
   "source": [
    "# Initialize an empty dictionary\n",
    "trigram_model = {}\n",
    "\n",
    "# Iterate over the cleaned text to extract trigrams\n",
    "for i in range(len(cleaned_text) - 2):  # Stop 2 characters before the end\n",
    "    trigram = cleaned_text[i:i+3]  # Extract a sequence of 3 characters\n",
    "    \n",
    "    # Increment the count for this trigram in the dictionary\n",
    "    if trigram in trigram_model:\n",
    "        trigram_model[trigram] += 1  # If the trigram is already in the dictionary, increase the count\n",
    "    else:\n",
    "        trigram_model[trigram] = 1   # Otherwise, initialize the count at 1\n",
    "\n",
    "# Display the first 10 trigrams to test\n",
    "print({k: trigram_model[k] for k in list(trigram_model)[:10]})\n"
   ]
  },
  {
   "cell_type": "code",
   "execution_count": 19,
   "metadata": {},
   "outputs": [],
   "source": [
    "def get_next_char(bigram, trigram_model):\n",
    "    \"\"\"\n",
    "    Given a bigram, find all trigrams that start with this bigram\n",
    "    and use the trigram model to choose the next character based on frequencies.\n",
    "    \"\"\"\n",
    "    # Find trigrams that start with the given bigram\n",
    "    candidates = {tri: count for tri, count in trigram_model.items() if tri.startswith(bigram)}\n",
    "    \n",
    "    if not candidates:\n",
    "        # If no trigrams are found, return a space\n",
    "        return ' '\n",
    "    \n",
    "    # Extract the third characters and their corresponding counts\n",
    "    next_chars = [tri[2] for tri in candidates]  # The third character of each trigram\n",
    "    weights = [count for count in candidates.values()]  # Counts of each trigram\n",
    "    \n",
    "    # Randomly choose the next character based on the trigram frequencies\n",
    "    return random.choices(next_chars, weights=weights, k=1)[0]"
   ]
  },
  {
   "cell_type": "code",
   "execution_count": null,
   "metadata": {},
   "outputs": [],
   "source": [
    "# Parameters for text generation\n",
    "generated_length = 10000  # Total number of characters\n",
    "seed = \"TH\"  # Start string\n",
    "\n",
    "# Initialize the generated text with the seed\n",
    "generated_text = seed\n",
    "\n",
    "# Loop to generate characters until we reach the desired length\n",
    "for _ in range(generated_length - len(seed)):  # Subtract seed length from the target length\n",
    "    bigram = generated_text[-2:]  # Get the last two characters\n",
    "    next_char = get_next_char(bigram, trigram_model)  # Get the next character using the trigram model\n",
    "    generated_text += next_char  # Append the next character to the generated string\n",
    "\n",
    "# Output the first 1000 characters of the generated text for verification\n",
    "print(generated_text[:1000])\n",
    "\n",
    "# Display the total length to verify it is 10,000 characters\n",
    "print(f\"Generated text length: {len(generated_text)}\")\n"
   ]
  }
 ],
 "metadata": {
  "kernelspec": {
   "display_name": "Python 3",
   "language": "python",
   "name": "python3"
  },
  "language_info": {
   "codemirror_mode": {
    "name": "ipython",
    "version": 3
   },
   "file_extension": ".py",
   "mimetype": "text/x-python",
   "name": "python",
   "nbconvert_exporter": "python",
   "pygments_lexer": "ipython3",
   "version": "3.12.3"
  },
  "orig_nbformat": 4
 },
 "nbformat": 4,
 "nbformat_minor": 2
}
